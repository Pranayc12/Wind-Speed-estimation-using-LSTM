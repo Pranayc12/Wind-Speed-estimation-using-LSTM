{
  "nbformat": 4,
  "nbformat_minor": 0,
  "metadata": {
    "colab": {
      "name": "DataProcessing.ipynb",
      "provenance": [],
      "collapsed_sections": [],
      "authorship_tag": "ABX9TyOClS44z65kkszpVfF+1Tvk",
      "include_colab_link": true
    },
    "kernelspec": {
      "name": "python3",
      "display_name": "Python 3"
    },
    "language_info": {
      "name": "python"
    }
  },
  "cells": [
    {
      "cell_type": "markdown",
      "metadata": {
        "id": "view-in-github",
        "colab_type": "text"
      },
      "source": [
        "<a href=\"https://colab.research.google.com/github/Pranayc12/Wind-Speed-estimation-using-LSTM/blob/main/DataProcessing.ipynb\" target=\"_parent\"><img src=\"https://colab.research.google.com/assets/colab-badge.svg\" alt=\"Open In Colab\"/></a>"
      ]
    },
    {
      "cell_type": "code",
      "execution_count": 13,
      "metadata": {
        "id": "kbeMA4d8ARBW"
      },
      "outputs": [],
      "source": [
        "import numpy as np\n",
        "import matplotlib.pyplot as plt\n",
        "import seaborn as sns\n",
        "import pandas as pd"
      ]
    },
    {
      "cell_type": "code",
      "source": [
        "from google.colab import drive\n",
        "drive.mount('/content/drive')"
      ],
      "metadata": {
        "colab": {
          "base_uri": "https://localhost:8080/"
        },
        "id": "6v31wqcUAck-",
        "outputId": "7e5c5fb2-809e-4959-9f91-0f459795776d"
      },
      "execution_count": 2,
      "outputs": [
        {
          "output_type": "stream",
          "name": "stdout",
          "text": [
            "Mounted at /content/drive\n"
          ]
        }
      ]
    },
    {
      "cell_type": "code",
      "source": [
        "df = pd.read_csv(r\"/content/drive/MyDrive/Project BT19MEC022/Dataset/Nagpur.csv\")"
      ],
      "metadata": {
        "id": "NuJXqeRvAhsN"
      },
      "execution_count": 3,
      "outputs": []
    },
    {
      "cell_type": "code",
      "source": [
        "df.columns\n"
      ],
      "metadata": {
        "colab": {
          "base_uri": "https://localhost:8080/"
        },
        "id": "kdLzU0aVAhw9",
        "outputId": "2dac084d-a3df-45fc-93e3-24529463d66d"
      },
      "execution_count": 4,
      "outputs": [
        {
          "output_type": "execute_result",
          "data": {
            "text/plain": [
              "Index(['name', 'datetime', 'tempmax', 'tempmin', 'temp', 'feelslikemax',\n",
              "       'feelslikemin', 'feelslike', 'dew', 'humidity', 'precip', 'precipprob',\n",
              "       'precipcover', 'preciptype', 'snow', 'snowdepth', 'windgust',\n",
              "       'windspeed', 'winddir', 'sealevelpressure', 'cloudcover', 'visibility',\n",
              "       'solarradiation', 'solarenergy', 'uvindex', 'severerisk', 'sunrise',\n",
              "       'sunset', 'moonphase', 'conditions', 'description', 'icon', 'stations'],\n",
              "      dtype='object')"
            ]
          },
          "metadata": {},
          "execution_count": 4
        }
      ]
    },
    {
      "cell_type": "code",
      "source": [
        "df.describe()\n",
        "data=df.drop(columns=['snow','snowdepth','feelslikemax','feelslikemin','feelslike','windgust'],axis=1)"
      ],
      "metadata": {
        "id": "kKbw-XFqAh11"
      },
      "execution_count": 33,
      "outputs": []
    },
    {
      "cell_type": "code",
      "source": [
        "data.head()"
      ],
      "metadata": {
        "colab": {
          "base_uri": "https://localhost:8080/",
          "height": 560
        },
        "id": "I6Pf-Wn8DBe0",
        "outputId": "47a92a47-a711-480e-edc1-979482501772"
      },
      "execution_count": 34,
      "outputs": [
        {
          "output_type": "execute_result",
          "data": {
            "text/plain": [
              "     name    datetime  tempmax  tempmin  temp   dew  humidity  precip  \\\n",
              "0  NAGPUR  2019-11-13     28.0     17.0  22.2  15.7      69.5     0.0   \n",
              "1  NAGPUR  2019-11-14     28.0     16.0  21.7  14.5      66.3     0.0   \n",
              "2  NAGPUR  2019-11-15     28.0     16.4  21.8  14.9      67.2     0.0   \n",
              "3  NAGPUR  2019-11-16     29.0     17.0  22.6  15.5      67.2     0.0   \n",
              "4  NAGPUR  2019-11-17     29.0     17.6  23.0  15.7      66.1     0.0   \n",
              "\n",
              "   precipprob  precipcover  ... solarenergy  uvindex  severerisk  \\\n",
              "0           0          0.0  ...        17.0        7         NaN   \n",
              "1           0          0.0  ...        19.3        8         NaN   \n",
              "2           0          0.0  ...        18.5        8         NaN   \n",
              "3           0          0.0  ...        18.4        8         NaN   \n",
              "4           0          0.0  ...        17.4        7         NaN   \n",
              "\n",
              "               sunrise               sunset  moonphase  conditions  \\\n",
              "0  2019-11-13T06:22:40  2019-11-13T17:32:49       0.51       Clear   \n",
              "1  2019-11-14T06:23:16  2019-11-14T17:32:31       0.52       Clear   \n",
              "2  2019-11-15T06:23:52  2019-11-15T17:32:14       0.54       Clear   \n",
              "3  2019-11-16T06:24:29  2019-11-16T17:31:58       0.58       Clear   \n",
              "4  2019-11-17T06:25:06  2019-11-17T17:31:44       0.63       Clear   \n",
              "\n",
              "                            description       icon  \\\n",
              "0  Clear conditions throughout the day.  clear-day   \n",
              "1  Clear conditions throughout the day.  clear-day   \n",
              "2  Clear conditions throughout the day.  clear-day   \n",
              "3  Clear conditions throughout the day.  clear-day   \n",
              "4  Clear conditions throughout the day.  clear-day   \n",
              "\n",
              "                       stations  \n",
              "0  42939099999,VANP,42867099999  \n",
              "1  42939099999,VANP,42867099999  \n",
              "2  42939099999,VANP,42867099999  \n",
              "3  42939099999,VANP,42867099999  \n",
              "4  42939099999,VANP,42867099999  \n",
              "\n",
              "[5 rows x 27 columns]"
            ],
            "text/html": [
              "\n",
              "  <div id=\"df-d34c7ed6-6275-42fd-850b-c209c01bec0b\">\n",
              "    <div class=\"colab-df-container\">\n",
              "      <div>\n",
              "<style scoped>\n",
              "    .dataframe tbody tr th:only-of-type {\n",
              "        vertical-align: middle;\n",
              "    }\n",
              "\n",
              "    .dataframe tbody tr th {\n",
              "        vertical-align: top;\n",
              "    }\n",
              "\n",
              "    .dataframe thead th {\n",
              "        text-align: right;\n",
              "    }\n",
              "</style>\n",
              "<table border=\"1\" class=\"dataframe\">\n",
              "  <thead>\n",
              "    <tr style=\"text-align: right;\">\n",
              "      <th></th>\n",
              "      <th>name</th>\n",
              "      <th>datetime</th>\n",
              "      <th>tempmax</th>\n",
              "      <th>tempmin</th>\n",
              "      <th>temp</th>\n",
              "      <th>dew</th>\n",
              "      <th>humidity</th>\n",
              "      <th>precip</th>\n",
              "      <th>precipprob</th>\n",
              "      <th>precipcover</th>\n",
              "      <th>...</th>\n",
              "      <th>solarenergy</th>\n",
              "      <th>uvindex</th>\n",
              "      <th>severerisk</th>\n",
              "      <th>sunrise</th>\n",
              "      <th>sunset</th>\n",
              "      <th>moonphase</th>\n",
              "      <th>conditions</th>\n",
              "      <th>description</th>\n",
              "      <th>icon</th>\n",
              "      <th>stations</th>\n",
              "    </tr>\n",
              "  </thead>\n",
              "  <tbody>\n",
              "    <tr>\n",
              "      <th>0</th>\n",
              "      <td>NAGPUR</td>\n",
              "      <td>2019-11-13</td>\n",
              "      <td>28.0</td>\n",
              "      <td>17.0</td>\n",
              "      <td>22.2</td>\n",
              "      <td>15.7</td>\n",
              "      <td>69.5</td>\n",
              "      <td>0.0</td>\n",
              "      <td>0</td>\n",
              "      <td>0.0</td>\n",
              "      <td>...</td>\n",
              "      <td>17.0</td>\n",
              "      <td>7</td>\n",
              "      <td>NaN</td>\n",
              "      <td>2019-11-13T06:22:40</td>\n",
              "      <td>2019-11-13T17:32:49</td>\n",
              "      <td>0.51</td>\n",
              "      <td>Clear</td>\n",
              "      <td>Clear conditions throughout the day.</td>\n",
              "      <td>clear-day</td>\n",
              "      <td>42939099999,VANP,42867099999</td>\n",
              "    </tr>\n",
              "    <tr>\n",
              "      <th>1</th>\n",
              "      <td>NAGPUR</td>\n",
              "      <td>2019-11-14</td>\n",
              "      <td>28.0</td>\n",
              "      <td>16.0</td>\n",
              "      <td>21.7</td>\n",
              "      <td>14.5</td>\n",
              "      <td>66.3</td>\n",
              "      <td>0.0</td>\n",
              "      <td>0</td>\n",
              "      <td>0.0</td>\n",
              "      <td>...</td>\n",
              "      <td>19.3</td>\n",
              "      <td>8</td>\n",
              "      <td>NaN</td>\n",
              "      <td>2019-11-14T06:23:16</td>\n",
              "      <td>2019-11-14T17:32:31</td>\n",
              "      <td>0.52</td>\n",
              "      <td>Clear</td>\n",
              "      <td>Clear conditions throughout the day.</td>\n",
              "      <td>clear-day</td>\n",
              "      <td>42939099999,VANP,42867099999</td>\n",
              "    </tr>\n",
              "    <tr>\n",
              "      <th>2</th>\n",
              "      <td>NAGPUR</td>\n",
              "      <td>2019-11-15</td>\n",
              "      <td>28.0</td>\n",
              "      <td>16.4</td>\n",
              "      <td>21.8</td>\n",
              "      <td>14.9</td>\n",
              "      <td>67.2</td>\n",
              "      <td>0.0</td>\n",
              "      <td>0</td>\n",
              "      <td>0.0</td>\n",
              "      <td>...</td>\n",
              "      <td>18.5</td>\n",
              "      <td>8</td>\n",
              "      <td>NaN</td>\n",
              "      <td>2019-11-15T06:23:52</td>\n",
              "      <td>2019-11-15T17:32:14</td>\n",
              "      <td>0.54</td>\n",
              "      <td>Clear</td>\n",
              "      <td>Clear conditions throughout the day.</td>\n",
              "      <td>clear-day</td>\n",
              "      <td>42939099999,VANP,42867099999</td>\n",
              "    </tr>\n",
              "    <tr>\n",
              "      <th>3</th>\n",
              "      <td>NAGPUR</td>\n",
              "      <td>2019-11-16</td>\n",
              "      <td>29.0</td>\n",
              "      <td>17.0</td>\n",
              "      <td>22.6</td>\n",
              "      <td>15.5</td>\n",
              "      <td>67.2</td>\n",
              "      <td>0.0</td>\n",
              "      <td>0</td>\n",
              "      <td>0.0</td>\n",
              "      <td>...</td>\n",
              "      <td>18.4</td>\n",
              "      <td>8</td>\n",
              "      <td>NaN</td>\n",
              "      <td>2019-11-16T06:24:29</td>\n",
              "      <td>2019-11-16T17:31:58</td>\n",
              "      <td>0.58</td>\n",
              "      <td>Clear</td>\n",
              "      <td>Clear conditions throughout the day.</td>\n",
              "      <td>clear-day</td>\n",
              "      <td>42939099999,VANP,42867099999</td>\n",
              "    </tr>\n",
              "    <tr>\n",
              "      <th>4</th>\n",
              "      <td>NAGPUR</td>\n",
              "      <td>2019-11-17</td>\n",
              "      <td>29.0</td>\n",
              "      <td>17.6</td>\n",
              "      <td>23.0</td>\n",
              "      <td>15.7</td>\n",
              "      <td>66.1</td>\n",
              "      <td>0.0</td>\n",
              "      <td>0</td>\n",
              "      <td>0.0</td>\n",
              "      <td>...</td>\n",
              "      <td>17.4</td>\n",
              "      <td>7</td>\n",
              "      <td>NaN</td>\n",
              "      <td>2019-11-17T06:25:06</td>\n",
              "      <td>2019-11-17T17:31:44</td>\n",
              "      <td>0.63</td>\n",
              "      <td>Clear</td>\n",
              "      <td>Clear conditions throughout the day.</td>\n",
              "      <td>clear-day</td>\n",
              "      <td>42939099999,VANP,42867099999</td>\n",
              "    </tr>\n",
              "  </tbody>\n",
              "</table>\n",
              "<p>5 rows × 27 columns</p>\n",
              "</div>\n",
              "      <button class=\"colab-df-convert\" onclick=\"convertToInteractive('df-d34c7ed6-6275-42fd-850b-c209c01bec0b')\"\n",
              "              title=\"Convert this dataframe to an interactive table.\"\n",
              "              style=\"display:none;\">\n",
              "        \n",
              "  <svg xmlns=\"http://www.w3.org/2000/svg\" height=\"24px\"viewBox=\"0 0 24 24\"\n",
              "       width=\"24px\">\n",
              "    <path d=\"M0 0h24v24H0V0z\" fill=\"none\"/>\n",
              "    <path d=\"M18.56 5.44l.94 2.06.94-2.06 2.06-.94-2.06-.94-.94-2.06-.94 2.06-2.06.94zm-11 1L8.5 8.5l.94-2.06 2.06-.94-2.06-.94L8.5 2.5l-.94 2.06-2.06.94zm10 10l.94 2.06.94-2.06 2.06-.94-2.06-.94-.94-2.06-.94 2.06-2.06.94z\"/><path d=\"M17.41 7.96l-1.37-1.37c-.4-.4-.92-.59-1.43-.59-.52 0-1.04.2-1.43.59L10.3 9.45l-7.72 7.72c-.78.78-.78 2.05 0 2.83L4 21.41c.39.39.9.59 1.41.59.51 0 1.02-.2 1.41-.59l7.78-7.78 2.81-2.81c.8-.78.8-2.07 0-2.86zM5.41 20L4 18.59l7.72-7.72 1.47 1.35L5.41 20z\"/>\n",
              "  </svg>\n",
              "      </button>\n",
              "      \n",
              "  <style>\n",
              "    .colab-df-container {\n",
              "      display:flex;\n",
              "      flex-wrap:wrap;\n",
              "      gap: 12px;\n",
              "    }\n",
              "\n",
              "    .colab-df-convert {\n",
              "      background-color: #E8F0FE;\n",
              "      border: none;\n",
              "      border-radius: 50%;\n",
              "      cursor: pointer;\n",
              "      display: none;\n",
              "      fill: #1967D2;\n",
              "      height: 32px;\n",
              "      padding: 0 0 0 0;\n",
              "      width: 32px;\n",
              "    }\n",
              "\n",
              "    .colab-df-convert:hover {\n",
              "      background-color: #E2EBFA;\n",
              "      box-shadow: 0px 1px 2px rgba(60, 64, 67, 0.3), 0px 1px 3px 1px rgba(60, 64, 67, 0.15);\n",
              "      fill: #174EA6;\n",
              "    }\n",
              "\n",
              "    [theme=dark] .colab-df-convert {\n",
              "      background-color: #3B4455;\n",
              "      fill: #D2E3FC;\n",
              "    }\n",
              "\n",
              "    [theme=dark] .colab-df-convert:hover {\n",
              "      background-color: #434B5C;\n",
              "      box-shadow: 0px 1px 3px 1px rgba(0, 0, 0, 0.15);\n",
              "      filter: drop-shadow(0px 1px 2px rgba(0, 0, 0, 0.3));\n",
              "      fill: #FFFFFF;\n",
              "    }\n",
              "  </style>\n",
              "\n",
              "      <script>\n",
              "        const buttonEl =\n",
              "          document.querySelector('#df-d34c7ed6-6275-42fd-850b-c209c01bec0b button.colab-df-convert');\n",
              "        buttonEl.style.display =\n",
              "          google.colab.kernel.accessAllowed ? 'block' : 'none';\n",
              "\n",
              "        async function convertToInteractive(key) {\n",
              "          const element = document.querySelector('#df-d34c7ed6-6275-42fd-850b-c209c01bec0b');\n",
              "          const dataTable =\n",
              "            await google.colab.kernel.invokeFunction('convertToInteractive',\n",
              "                                                     [key], {});\n",
              "          if (!dataTable) return;\n",
              "\n",
              "          const docLinkHtml = 'Like what you see? Visit the ' +\n",
              "            '<a target=\"_blank\" href=https://colab.research.google.com/notebooks/data_table.ipynb>data table notebook</a>'\n",
              "            + ' to learn more about interactive tables.';\n",
              "          element.innerHTML = '';\n",
              "          dataTable['output_type'] = 'display_data';\n",
              "          await google.colab.output.renderOutput(dataTable, element);\n",
              "          const docLink = document.createElement('div');\n",
              "          docLink.innerHTML = docLinkHtml;\n",
              "          element.appendChild(docLink);\n",
              "        }\n",
              "      </script>\n",
              "    </div>\n",
              "  </div>\n",
              "  "
            ]
          },
          "metadata": {},
          "execution_count": 34
        }
      ]
    },
    {
      "cell_type": "code",
      "source": [
        "numeric_features = data.select_dtypes(include=np.number)\n",
        "numeric_features.columns\n"
      ],
      "metadata": {
        "colab": {
          "base_uri": "https://localhost:8080/"
        },
        "id": "L0llAfEKKC4x",
        "outputId": "9eca282e-b283-498e-e946-38c24eea4a02"
      },
      "execution_count": 35,
      "outputs": [
        {
          "output_type": "execute_result",
          "data": {
            "text/plain": [
              "Index(['tempmax', 'tempmin', 'temp', 'dew', 'humidity', 'precip', 'precipprob',\n",
              "       'precipcover', 'windspeed', 'winddir', 'sealevelpressure', 'cloudcover',\n",
              "       'visibility', 'solarradiation', 'solarenergy', 'uvindex', 'severerisk',\n",
              "       'moonphase'],\n",
              "      dtype='object')"
            ]
          },
          "metadata": {},
          "execution_count": 35
        }
      ]
    },
    {
      "cell_type": "code",
      "source": [
        "correlation = numeric_features.corr()\n",
        "\n",
        "#examining the correlation of wind speed with other numeric features\n",
        "\n",
        "print(correlation[\"windspeed\"].sort_values(ascending=False),\"\\n\")\n",
        "\n",
        "\n",
        "\n",
        "\n",
        "\n"
      ],
      "metadata": {
        "colab": {
          "base_uri": "https://localhost:8080/"
        },
        "id": "f8B1WjWHAh6t",
        "outputId": "a48785fa-6482-4560-eca2-957cd0ca38ad"
      },
      "execution_count": 36,
      "outputs": [
        {
          "output_type": "stream",
          "name": "stdout",
          "text": [
            "windspeed           1.000000\n",
            "winddir             0.525735\n",
            "tempmin             0.461592\n",
            "temp                0.414937\n",
            "precipprob          0.350636\n",
            "cloudcover          0.346611\n",
            "tempmax             0.328310\n",
            "precipcover         0.280227\n",
            "dew                 0.249007\n",
            "precip              0.197018\n",
            "visibility          0.158328\n",
            "solarenergy         0.141892\n",
            "solarradiation      0.139550\n",
            "severerisk          0.080499\n",
            "uvindex             0.068548\n",
            "moonphase          -0.001563\n",
            "humidity           -0.001999\n",
            "sealevelpressure   -0.473134\n",
            "Name: windspeed, dtype: float64 \n",
            "\n"
          ]
        }
      ]
    },
    {
      "cell_type": "code",
      "source": [
        "f, ax = plt.subplots(figsize = (14,12))\n",
        "plt.title(\"Correlation of Numeric Features with wind Speed \",y=1,size = 16)\n",
        "sns.heatmap(correlation,square=True, vmax =0.8)\n",
        "\n"
      ],
      "metadata": {
        "colab": {
          "base_uri": "https://localhost:8080/",
          "height": 782
        },
        "id": "vlqx8ic-HB0M",
        "outputId": "d1b9681b-b7b1-46e1-fd86-46dd3daf1690"
      },
      "execution_count": 37,
      "outputs": [
        {
          "output_type": "execute_result",
          "data": {
            "text/plain": [
              "<matplotlib.axes._subplots.AxesSubplot at 0x7fc16b6d42d0>"
            ]
          },
          "metadata": {},
          "execution_count": 37
        },
        {
          "output_type": "display_data",
          "data": {
            "text/plain": [
              "<Figure size 1008x864 with 2 Axes>"
            ],
            "image/png": "[encoded data removed]"
          },
          "metadata": {
            "needs_background": "light"
          }
        }
      ]
    },
    {
      "cell_type": "code",
      "source": [
        "#multi colinearity destroys model performance because of low variance\n",
        "#choosing top 10 features\n",
        "k=10\n",
        "cols = correlation.nlargest(k,'windspeed')['windspeed'].index\n",
        "print(cols)\n",
        "#pearson correlation\n",
        "cm = np.corrcoef(data[cols].values.T)\n",
        "f,ax = plt.subplots(figsize=(14,12))\n",
        "sns.heatmap(cm,vmax=.8,linewidths=0.01,square=True,annot=True,cmap='viridis',linecolor='white',xticklabels=cols.values, annot_kws={\"size\":12},yticklabels=cols.values)\n"
      ],
      "metadata": {
        "colab": {
          "base_uri": "https://localhost:8080/",
          "height": 760
        },
        "id": "jgDQSKC_HsIn",
        "outputId": "f6df7088-0727-4117-e38d-229521fb0d4d"
      },
      "execution_count": 38,
      "outputs": [
        {
          "output_type": "stream",
          "name": "stdout",
          "text": [
            "Index(['windspeed', 'winddir', 'tempmin', 'temp', 'precipprob', 'cloudcover',\n",
            "       'tempmax', 'precipcover', 'dew', 'precip'],\n",
            "      dtype='object')\n"
          ]
        },
        {
          "output_type": "execute_result",
          "data": {
            "text/plain": [
              "<matplotlib.axes._subplots.AxesSubplot at 0x7fc16b5b2c50>"
            ]
          },
          "metadata": {},
          "execution_count": 38
        },
        {
          "output_type": "display_data",
          "data": {
            "text/plain": [
              "<Figure size 1008x864 with 2 Axes>"
            ],
            "image/png": "[encoded data removed]"
          },
          "metadata": {
            "needs_background": "light"
          }
        }
      ]
    },
    {
      "cell_type": "code",
      "source": [
        "list_columns = ['winddir','tempmin','temp','precipprob','cloudcover','tempmax','precipcover','dew','precip']\n",
        "X = data[list_columns]\n",
        "Y = data['windspeed']\n"
      ],
      "metadata": {
        "id": "AU1mTsS5VZFA"
      },
      "execution_count": 40,
      "outputs": []
    },
    {
      "cell_type": "code",
      "source": [
        "dates = df['datetime']\n",
        "X_new = pd.concat([X,dates],axis=1)\n",
        "X_new.head()\n",
        "X_new.shape\n"
      ],
      "metadata": {
        "colab": {
          "base_uri": "https://localhost:8080/"
        },
        "id": "ZJ76Y-C9k6aQ",
        "outputId": "0e0f4836-c92b-4d7a-c11b-614423a78fe6"
      },
      "execution_count": 51,
      "outputs": [
        {
          "output_type": "execute_result",
          "data": {
            "text/plain": [
              "(1000, 10)"
            ]
          },
          "metadata": {},
          "execution_count": 51
        }
      ]
    },
    {
      "cell_type": "code",
      "source": [
        "Y.shape"
      ],
      "metadata": {
        "colab": {
          "base_uri": "https://localhost:8080/"
        },
        "id": "R3skuRlJlDje",
        "outputId": "5a8f8f5a-cdbc-4781-fb66-d69f8bf7cd75"
      },
      "execution_count": 42,
      "outputs": [
        {
          "output_type": "execute_result",
          "data": {
            "text/plain": [
              "(1000,)"
            ]
          },
          "metadata": {},
          "execution_count": 42
        }
      ]
    },
    {
      "cell_type": "code",
      "source": [
        "X_new.to_csv(\"X_new.csv\")\n",
        "Y.to_csv(\"Y.csv\")\n",
        "\n"
      ],
      "metadata": {
        "id": "Ax_12Ju2lGtA"
      },
      "execution_count": 52,
      "outputs": []
    },
    {
      "cell_type": "code",
      "source": [
        "from google.colab import files\n",
        "files.download(\"X_new.csv\")\n",
        "\n",
        "from google.colab import files\n",
        "files.download(\"Y.csv\")"
      ],
      "metadata": {
        "colab": {
          "base_uri": "https://localhost:8080/",
          "height": 17
        },
        "id": "G0zxAxZEnicF",
        "outputId": "7b98875b-9bcc-4656-a88f-5a1d7285214e"
      },
      "execution_count": 53,
      "outputs": [
        {
          "output_type": "display_data",
          "data": {
            "text/plain": [
              "<IPython.core.display.Javascript object>"
            ],
            "application/javascript": [
              "\n",
              "    async function download(id, filename, size) {\n",
              "      if (!google.colab.kernel.accessAllowed) {\n",
              "        return;\n",
              "      }\n",
              "      const div = document.createElement('div');\n",
              "      const label = document.createElement('label');\n",
              "      label.textContent = `Downloading \"${filename}\": `;\n",
              "      div.appendChild(label);\n",
              "      const progress = document.createElement('progress');\n",
              "      progress.max = size;\n",
              "      div.appendChild(progress);\n",
              "      document.body.appendChild(div);\n",
              "\n",
              "      const buffers = [];\n",
              "      let downloaded = 0;\n",
              "\n",
              "      const channel = await google.colab.kernel.comms.open(id);\n",
              "      // Send a message to notify the kernel that we're ready.\n",
              "      channel.send({})\n",
              "\n",
              "      for await (const message of channel.messages) {\n",
              "        // Send a message to notify the kernel that we're ready.\n",
              "        channel.send({})\n",
              "        if (message.buffers) {\n",
              "          for (const buffer of message.buffers) {\n",
              "            buffers.push(buffer);\n",
              "            downloaded += buffer.byteLength;\n",
              "            progress.value = downloaded;\n",
              "          }\n",
              "        }\n",
              "      }\n",
              "      const blob = new Blob(buffers, {type: 'application/binary'});\n",
              "      const a = document.createElement('a');\n",
              "      a.href = window.URL.createObjectURL(blob);\n",
              "      a.download = filename;\n",
              "      div.appendChild(a);\n",
              "      a.click();\n",
              "      div.remove();\n",
              "    }\n",
              "  "
            ]
          },
          "metadata": {}
        },
        {
          "output_type": "display_data",
          "data": {
            "text/plain": [
              "<IPython.core.display.Javascript object>"
            ],
            "application/javascript": [
              "download(\"download_6cd3cb36-429e-45b1-aae8-cb9c32a614e8\", \"X_new.csv\", 56921)"
            ]
          },
          "metadata": {}
        },
        {
          "output_type": "display_data",
          "data": {
            "text/plain": [
              "<IPython.core.display.Javascript object>"
            ],
            "application/javascript": [
              "\n",
              "    async function download(id, filename, size) {\n",
              "      if (!google.colab.kernel.accessAllowed) {\n",
              "        return;\n",
              "      }\n",
              "      const div = document.createElement('div');\n",
              "      const label = document.createElement('label');\n",
              "      label.textContent = `Downloading \"${filename}\": `;\n",
              "      div.appendChild(label);\n",
              "      const progress = document.createElement('progress');\n",
              "      progress.max = size;\n",
              "      div.appendChild(progress);\n",
              "      document.body.appendChild(div);\n",
              "\n",
              "      const buffers = [];\n",
              "      let downloaded = 0;\n",
              "\n",
              "      const channel = await google.colab.kernel.comms.open(id);\n",
              "      // Send a message to notify the kernel that we're ready.\n",
              "      channel.send({})\n",
              "\n",
              "      for await (const message of channel.messages) {\n",
              "        // Send a message to notify the kernel that we're ready.\n",
              "        channel.send({})\n",
              "        if (message.buffers) {\n",
              "          for (const buffer of message.buffers) {\n",
              "            buffers.push(buffer);\n",
              "            downloaded += buffer.byteLength;\n",
              "            progress.value = downloaded;\n",
              "          }\n",
              "        }\n",
              "      }\n",
              "      const blob = new Blob(buffers, {type: 'application/binary'});\n",
              "      const a = document.createElement('a');\n",
              "      a.href = window.URL.createObjectURL(blob);\n",
              "      a.download = filename;\n",
              "      div.appendChild(a);\n",
              "      a.click();\n",
              "      div.remove();\n",
              "    }\n",
              "  "
            ]
          },
          "metadata": {}
        },
        {
          "output_type": "display_data",
          "data": {
            "text/plain": [
              "<IPython.core.display.Javascript object>"
            ],
            "application/javascript": [
              "download(\"download_9b393a76-b30e-4ad4-80b7-4e024ec20f5f\", \"Y.csv\", 8622)"
            ]
          },
          "metadata": {}
        }
      ]
    },
    {
      "cell_type": "code",
      "source": [
        ""
      ],
      "metadata": {
        "id": "VjfiRTW2nqhX"
      },
      "execution_count": null,
      "outputs": []
    }
  ]
}